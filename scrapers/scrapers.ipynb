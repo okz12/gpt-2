{
 "cells": [
  {
   "cell_type": "markdown",
   "metadata": {},
   "source": [
    "### Facebook Messenger"
   ]
  },
  {
   "cell_type": "code",
   "execution_count": null,
   "metadata": {},
   "outputs": [],
   "source": [
    "import os\n",
    "import json\n",
    "\n",
    "base_dir = '' #location of facebook data\n",
    "user = '' #the user's facebook name on which you want to collect data\n",
    "\n",
    "def read_json(filename, user):\n",
    "    with open(filename) as f:\n",
    "        data = json.load(f)\n",
    "    messages = []\n",
    "    for msg in data['messages']:\n",
    "        if user in msg['sender_name']:\n",
    "            messages.append(msg['content'])\n",
    "    return messages\n",
    "\n",
    "inbox_dir = os.path.join(base_dir, 'messages', 'inbox')\n",
    "chats = [os.path.join(inbox_dir, x) for x  in os.listdir(inbox_dir)]\n",
    "chat_files = [os.path.join(chat,'message.json') for chat in chats if 'message.json' in os.listdir(chat)]\n",
    "messages = []\n",
    "for chat in chat_files:\n",
    "    messages.extend(read_json(chat, user))\n",
    "    \n",
    "with open('../msg.txt', 'w', encoding='utf8') as f:\n",
    "    f.write(\"\\n\".join(messages)) \n",
    "    \n",
    "print(\"Total number of messages: {}\".format(len(messages)))"
   ]
  },
  {
   "cell_type": "markdown",
   "metadata": {},
   "source": [
    "### Subreddit -- Uncollapsed comments from top 100 posts in last year"
   ]
  },
  {
   "cell_type": "code",
   "execution_count": 9,
   "metadata": {},
   "outputs": [
    {
     "data": {
      "application/vnd.jupyter.widget-view+json": {
       "model_id": "67d0f8c0b0eb4fe495a015b5ff139f64",
       "version_major": 2,
       "version_minor": 0
      },
      "text/plain": [
       "HBox(children=(IntProgress(value=0), HTML(value='')))"
      ]
     },
     "metadata": {},
     "output_type": "display_data"
    }
   ],
   "source": [
    "import praw\n",
    "from tqdm import tqdm_notebook as tqdm\n",
    "\n",
    "subreddit_name = 'wallstreetbets'\n",
    "comments_list = []\n",
    "\n",
    "reddit = praw.Reddit() #remember to set up your praw.ini file\n",
    "subreddit = reddit.subreddit(subreddit_name)\n",
    "top_python = list(subreddit.top(time_filter='year', limit=100))\n",
    "for thread in tqdm(top_python):\n",
    "    for comment in thread.comments.list():\n",
    "        if hasattr(comment, 'body'):\n",
    "            comments_list.append(comment.body)\n",
    "            \n",
    "with open('../msg.txt', 'w', encoding='utf8') as f:\n",
    "    f.write(\"\\n\".join(comments_list)) \n",
    "    \n",
    "print(\"Total number of comments: {}\".format(len(comments_list)))"
   ]
  }
 ],
 "metadata": {
  "kernelspec": {
   "display_name": "Python 3",
   "language": "python",
   "name": "python3"
  },
  "language_info": {
   "codemirror_mode": {
    "name": "ipython",
    "version": 3
   },
   "file_extension": ".py",
   "mimetype": "text/x-python",
   "name": "python",
   "nbconvert_exporter": "python",
   "pygments_lexer": "ipython3",
   "version": "3.7.1"
  }
 },
 "nbformat": 4,
 "nbformat_minor": 2
}
