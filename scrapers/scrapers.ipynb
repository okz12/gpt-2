{
 "cells": [
  {
   "cell_type": "markdown",
   "metadata": {},
   "source": [
    "### Facebook Messenger"
   ]
  },
  {
   "cell_type": "code",
   "execution_count": null,
   "metadata": {},
   "outputs": [],
   "source": [
    "import os\n",
    "import json\n",
    "\n",
    "base_dir = '' #location of facebook data\n",
    "user = '' #the user's facebook name on which you want to collect data\n",
    "\n",
    "def read_json(filename, user):\n",
    "    with open(filename) as f:\n",
    "        data = json.load(f)\n",
    "    messages = []\n",
    "    for msg in data['messages']:\n",
    "        if user in msg['sender_name']:\n",
    "            messages.append(msg['content'])\n",
    "    return messages\n",
    "\n",
    "inbox_dir = os.path.join(base_dir, 'messages', 'inbox')\n",
    "chats = [os.path.join(inbox_dir, x) for x  in os.listdir(inbox_dir)]\n",
    "chat_files = [os.path.join(chat,'message.json') for chat in chats if 'message.json' in os.listdir(chat)]\n",
    "messages = []\n",
    "for chat in chat_files:\n",
    "    messages.extend(read_json(chat, user))\n",
    "    \n",
    "with open('../data.txt', 'w', encoding='utf8') as f:\n",
    "    f.write(\"\\n\".join(messages)) \n",
    "    \n",
    "print(\"Total number of messages: {}\".format(len(messages)))"
   ]
  },
  {
   "cell_type": "markdown",
   "metadata": {},
   "source": [
    "### Subreddit -- Uncollapsed comments"
   ]
  },
  {
   "cell_type": "code",
   "execution_count": 13,
   "metadata": {},
   "outputs": [
    {
     "data": {
      "application/vnd.jupyter.widget-view+json": {
       "model_id": "6de2c24eaa5b493ea65ddac92c58c859",
       "version_major": 2,
       "version_minor": 0
      },
      "text/plain": [
       "HBox(children=(IntProgress(value=0, max=10), HTML(value='')))"
      ]
     },
     "metadata": {},
     "output_type": "display_data"
    },
    {
     "name": "stdout",
     "output_type": "stream",
     "text": [
      "Total number of comments: 4200\n"
     ]
    }
   ],
   "source": [
    "import praw\n",
    "from tqdm import tqdm_notebook as tqdm\n",
    "\n",
    "comments_list = []\n",
    "\n",
    "reddit = praw.Reddit() #remember to set up your praw.ini file\n",
    "subreddit = reddit.subreddit('wallstreetbets') #subreddit name\n",
    "top_python = list(subreddit.top(time_filter='all', limit=10)) #time filter and number of threads\n",
    "for thread in tqdm(top_python):\n",
    "    for comment in thread.comments.list():\n",
    "        if hasattr(comment, 'body'):\n",
    "            comments_list.append(comment.body)\n",
    "            \n",
    "with open('../data.txt', 'w', encoding='utf8') as f:\n",
    "    f.write(\"\\n\".join(comments_list)) \n",
    "    \n",
    "print(\"Total number of comments: {}\".format(len(comments_list)))"
   ]
  }
 ],
 "metadata": {
  "kernelspec": {
   "display_name": "Python 3",
   "language": "python",
   "name": "python3"
  },
  "language_info": {
   "codemirror_mode": {
    "name": "ipython",
    "version": 3
   },
   "file_extension": ".py",
   "mimetype": "text/x-python",
   "name": "python",
   "nbconvert_exporter": "python",
   "pygments_lexer": "ipython3",
   "version": "3.7.1"
  }
 },
 "nbformat": 4,
 "nbformat_minor": 2
}
